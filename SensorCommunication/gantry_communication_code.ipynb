{
 "cells": [
  {
   "cell_type": "code",
   "execution_count": 9,
   "id": "6162b7ae-c241-4fb7-85e2-926075a4ba87",
   "metadata": {
    "scrolled": true
   },
   "outputs": [
    {
     "ename": "ModuleNotFoundError",
     "evalue": "No module named 'PySpin'",
     "output_type": "error",
     "traceback": [
      "\u001b[1;31m---------------------------------------------------------------------------\u001b[0m",
      "\u001b[1;31mModuleNotFoundError\u001b[0m                       Traceback (most recent call last)",
      "Cell \u001b[1;32mIn[9], line 3\u001b[0m\n\u001b[0;32m      1\u001b[0m \u001b[38;5;28;01mimport\u001b[39;00m \u001b[38;5;21;01mrequests\u001b[39;00m\n\u001b[0;32m      2\u001b[0m \u001b[38;5;28;01mimport\u001b[39;00m \u001b[38;5;21;01mtime\u001b[39;00m\n\u001b[1;32m----> 3\u001b[0m \u001b[38;5;28;01mimport\u001b[39;00m \u001b[38;5;21;01mPySpin\u001b[39;00m\n\u001b[0;32m      4\u001b[0m \u001b[38;5;28;01mimport\u001b[39;00m \u001b[38;5;21;01mpyrealsense2\u001b[39;00m \u001b[38;5;28;01mas\u001b[39;00m \u001b[38;5;21;01mrs\u001b[39;00m\n\u001b[0;32m      5\u001b[0m \u001b[38;5;28;01mimport\u001b[39;00m \u001b[38;5;21;01msys\u001b[39;00m\n",
      "\u001b[1;31mModuleNotFoundError\u001b[0m: No module named 'PySpin'"
     ]
    }
   ],
   "source": [
    "import requests\n",
    "import time\n",
    "import PySpin\n",
    "import pyrealsense2 as rs\n",
    "import sys\n",
    "sys.path.append('../')\n",
    "import capture_thermal_image as thermalcapture"
   ]
  },
  {
   "cell_type": "code",
   "execution_count": 8,
   "id": "fd16ffa5-b78c-4d20-8b8a-6d1220970403",
   "metadata": {
    "scrolled": true
   },
   "outputs": [
    {
     "name": "stdout",
     "output_type": "stream",
     "text": [
      "Requirement already satisfied: PySpin in c:\\users\\polis\\anaconda3\\envs\\thermal_calibration\\lib\\site-packages (1.1.1)\n"
     ]
    }
   ],
   "source": [
    "!pip install PySpin --no-deps"
   ]
  },
  {
   "cell_type": "code",
   "execution_count": null,
   "id": "85903e01-fb18-4554-91e6-8348e27ec096",
   "metadata": {
    "scrolled": true
   },
   "outputs": [],
   "source": [
    "print(requests.get(\"http://localhost:8010/RestPLCService/getint?address=4020\").json()[\"Value\"])"
   ]
  },
  {
   "cell_type": "code",
   "execution_count": null,
   "id": "b0e1996b-3d76-4332-b792-35cb8b499ada",
   "metadata": {
    "scrolled": true
   },
   "outputs": [],
   "source": [
    "requests.get(\"http://localhost:8010/RestPLCService/setint?address=4010&value=%d\" % 1209)"
   ]
  },
  {
   "cell_type": "code",
   "execution_count": null,
   "id": "4d8c2f3f-1681-4f43-89ac-db2ee8a6b72d",
   "metadata": {},
   "outputs": [],
   "source": [
    "requests.get(\"http://localhost:8010/RestPLCService/setint?address=4010&value=%d\" % 1510)"
   ]
  },
  {
   "cell_type": "code",
   "execution_count": null,
   "id": "7ae1026d-644c-4889-9a71-308936f26f20",
   "metadata": {},
   "outputs": [],
   "source": [
    "import time\n",
    "import pyrealsense2 as rs\n",
    "import numpy as np\n",
    "import cv2\n",
    "from datetime import datetime\n",
    "import os\n",
    "import json"
   ]
  },
  {
   "cell_type": "code",
   "execution_count": null,
   "id": "1109e84e-1dc9-49cd-98cd-6ca6ac3333a5",
   "metadata": {},
   "outputs": [],
   "source": [
    "\"\"\"\n",
    "Author: spsaswat & Zishuang Xing\n",
    "\n",
    "Description:\n",
    "This script demonstrates the process of acquiring images using the Intel RealSense camera via the pyrealsense2 library. \n",
    "The script showcases essential steps including starting and stopping the camera pipeline, capturing a specified number \n",
    "of images with a delay between each capture, saving camera intrinsics, and handling file paths dynamically based on the \n",
    "execution time. This utility is particularly useful in computer vision applications that require synchronized color and \n",
    "depth data from RealSense cameras.\n",
    "\n",
    "\"\"\"\n",
    "\n",
    "# Initialize the global variable\n",
    "current_position = 0.0\n",
    "all_imgs = []\n",
    "\n",
    "# serial_number = 'f1230450' #L515\n",
    "# serial_number = '017322071325' #D435\n",
    "serial_number = '128422272123'  #D405\n",
    "\n",
    "#Set the basic path for data storage\n",
    "save_fold_p = './data/test_plant_'\n",
    "\n",
    "now = datetime.now()\n",
    "dt_string = now.strftime(\"%Y%m%d%H%M%S\")\n",
    "save_fold_p = save_fold_p + dt_string + '/'\n",
    "#If it does not exist, create a save directory\n",
    "os.makedirs(save_fold_p, exist_ok=True) \n",
    "\n",
    "def start_pipeline():\n",
    "    # Start streaming\n",
    "    pipeline.start(config)\n",
    "    # Get the depth sensor and set the visual preset\n",
    "\n",
    "\n",
    "def stop_pipeline():\n",
    "    # Stop streaming\n",
    "    pipeline.stop()\n",
    "    \n",
    "\n",
    "def save_intrinsics():\n",
    "    # Get the intrinsics\n",
    "    profile = pipeline.get_active_profile()\n",
    "    \n",
    "    depth_sensor = profile.get_device().first_depth_sensor()\n",
    "    depth_scale = depth_sensor.get_depth_scale()\n",
    "    depth_sensor.set_option(rs.option.visual_preset, 4)  # 4 High accuracy for D435 and D405 # 5 L515 short range \n",
    "\n",
    "    # depth_profile = rs.video_stream_profile(profile.get_stream(rs.stream.color))  #change it back if it doesnot work\n",
    "    depth_profile = rs.video_stream_profile(profile.get_stream(rs.stream.depth))\n",
    "    depth_intrinsics = depth_profile.get_intrinsics()\n",
    "\n",
    "    # Save the intrinsics in the required format\n",
    "    intrinsics_dict = {\n",
    "        \"K\": [\n",
    "            [depth_intrinsics.fx, 0, depth_intrinsics.ppx],\n",
    "            [0, depth_intrinsics.fy, depth_intrinsics.ppy],\n",
    "            [0, 0, 1]\n",
    "        ],\n",
    "        # Assuming that the distortion model is \"Brown-Conrady\",\n",
    "        # you can get the distortion parameters like this.\n",
    "        \"dist\": depth_intrinsics.coeffs,\n",
    "        \"height\": depth_intrinsics.height,\n",
    "        \"width\": depth_intrinsics.width\n",
    "    }\n",
    "\n",
    "    # Write the data to a .txt file\n",
    "    with open(save_fold_p+'kd_intrinsics.txt', 'w') as outfile:\n",
    "        json.dump(intrinsics_dict, outfile, indent=4)\n",
    "        \n",
    "        \n",
    "    #remove below code after intrinsics finalized\n",
    "    depth_profile = rs.video_stream_profile(profile.get_stream(rs.stream.color)) \n",
    "    depth_intrinsics = depth_profile.get_intrinsics()\n",
    "\n",
    "    # Save the intrinsics in the required format\n",
    "    intrinsics_dict = {\n",
    "        \"K\": [\n",
    "            [depth_intrinsics.fx, 0, depth_intrinsics.ppx],\n",
    "            [0, depth_intrinsics.fy, depth_intrinsics.ppy],\n",
    "            [0, 0, 1]\n",
    "        ],\n",
    "        # Assuming that the distortion model is \"Brown-Conrady\",\n",
    "        # you can get the distortion parameters like this.\n",
    "        \"dist\": depth_intrinsics.coeffs,\n",
    "        \"height\": depth_intrinsics.height,\n",
    "        \"width\": depth_intrinsics.width\n",
    "    }\n",
    "\n",
    "    # Write the data to a .txt file\n",
    "    with open(save_fold_p+'kdc_intrinsics.txt', 'w') as outfile:\n",
    "        json.dump(intrinsics_dict, outfile, indent=4)\n",
    "\n",
    "\n",
    "def capture_images(pipeline, position_str, total_images=1, delay=0):\n",
    "    # Capture a specified number of images, pausing for a set time between captures\n",
    "    for i in range(total_images):\n",
    "        frames = pipeline.wait_for_frames()\n",
    "        # Align depth frames to color frames to ensure depth and color data match\n",
    "        aligned_frames = align.process(frames)\n",
    "        depth_frame = aligned_frames.get_depth_frame()\n",
    "        color_frame = aligned_frames.get_color_frame()\n",
    "        \n",
    "        # Convert frame data to numpy arrays for processing and saving with OpenCV\n",
    "        depth_image = np.asanyarray(depth_frame.get_data())\n",
    "        color_image = np.asanyarray(color_frame.get_data())\n",
    "        \n",
    "        # # Save color and depth images with filenames \"rgb_x.png\" and \"depth_x.png\", where x is the sequence number\n",
    "        # position_str = f\"position_str\" \n",
    "        \n",
    "        cv2.imwrite(os.path.join(save_fold_p, f'rgb_{position_str}.png'), color_image)\n",
    "        cv2.imwrite(os.path.join(save_fold_p, f'depth_{position_str}.png'), depth_image)\n",
    "\n",
    "        time.sleep(delay) # Wait for a specified time (in seconds) between captures\n",
    "\n",
    "# Configure the RealSense camera\n",
    "pipeline = rs.pipeline()\n",
    "config = rs.config()\n",
    "config.enable_device(serial_number)\n",
    "# Configure the stream parameters according to device capabilities and needs\n",
    "config.enable_stream(rs.stream.color, 1280, 720, rs.format.bgr8, 30)  \n",
    "config.enable_stream(rs.stream.depth, 1280, 720, rs.format.z16, 30) \n",
    "align = rs.align(rs.stream.color) #Align depth frames to color frames\n",
    "\n",
    "# Sequentially execute starting the pipeline, saving intrinsics, capturing images, and stopping the pipeline\n",
    "start_pipeline()\n",
    "save_intrinsics()"
   ]
  },
  {
   "cell_type": "code",
   "execution_count": null,
   "id": "a1b40f17-7cb8-455d-8db7-79a2cd070402",
   "metadata": {},
   "outputs": [],
   "source": [
    "tt = requests.get(\"http://localhost:8010/RestPLCService/getint?address=4020\").json()[\"Value\"]\n",
    "print(str(tt))"
   ]
  },
  {
   "cell_type": "code",
   "execution_count": null,
   "id": "a3dff6f7-5d61-48b8-a534-a3e21204205f",
   "metadata": {
    "scrolled": true
   },
   "outputs": [],
   "source": [
    "li_th_pos = [1340, 1055, 740, 435, 1510]\n",
    "if requests.get(\"http://localhost:8010/RestPLCService/getint?address=4020\").json()[\"Value\"] != 1510:\n",
    "    requests.get(\"http://localhost:8010/RestPLCService/setint?address=4010&value=%d\" % 1510)\n",
    "    time.sleep(10)\n",
    "    print(\"The gantry's position is:\", requests.get(\"http://localhost:8010/RestPLCService/getint?address=4020\").json()[\"Value\"])\n",
    "    # call rgbd and thermal capture\n",
    "    \n",
    "for pos in li_th_pos:\n",
    "    requests.get(\"http://localhost:8010/RestPLCService/setint?address=4010&value=%d\" % pos)\n",
    "    position_f = requests.get(\"http://localhost:8010/RestPLCService/getint?address=4020\").json()[\"Value\"]\n",
    "    print(\"The gantry's position is:\", position_f)\n",
    "    time.sleep(10)\n",
    "    # call rgbd and thermal capture\n",
    "    capture_images(pipeline, position_f, 1, 0)\n",
    "\n",
    "    # main start\n",
    "    thermalcapture.NUM_IMAGES = 1\n",
    "    thermalcapture.pos = position_f\n",
    "    thermalcapture.main()\n",
    "    # main end\n",
    "    time.sleep(5)\n",
    "   \n",
    "    \n",
    "stop_pipeline()"
   ]
  },
  {
   "cell_type": "code",
   "execution_count": 14,
   "id": "8b340391-abfe-4fd8-a32f-119ff4af1022",
   "metadata": {},
   "outputs": [
    {
     "ename": "FileNotFoundError",
     "evalue": "[Errno 2] No such file or directory: 'C:\\\\Users\\\\polis\\\\Technical\\\\ANU\\\\MMLCV\\\\Semester-2, 2024\\\\TechLauncher\\\\APPF_FLIR\\\\gantrycomms\\\\Acquisition\\\\20240310-132157\\\\Acquisition-1509.tiff'",
     "output_type": "error",
     "traceback": [
      "\u001b[1;31m---------------------------------------------------------------------------\u001b[0m",
      "\u001b[1;31mFileNotFoundError\u001b[0m                         Traceback (most recent call last)",
      "Cell \u001b[1;32mIn[14], line 4\u001b[0m\n\u001b[0;32m      1\u001b[0m \u001b[38;5;28;01mfrom\u001b[39;00m \u001b[38;5;21;01mPIL\u001b[39;00m \u001b[38;5;28;01mimport\u001b[39;00m Image\n\u001b[0;32m      2\u001b[0m \u001b[38;5;28;01mimport\u001b[39;00m \u001b[38;5;21;01mnumpy\u001b[39;00m \u001b[38;5;28;01mas\u001b[39;00m \u001b[38;5;21;01mnp\u001b[39;00m\n\u001b[1;32m----> 4\u001b[0m img \u001b[38;5;241m=\u001b[39m \u001b[43mImage\u001b[49m\u001b[38;5;241;43m.\u001b[39;49m\u001b[43mopen\u001b[49m\u001b[43m(\u001b[49m\u001b[38;5;124;43m\"\u001b[39;49m\u001b[38;5;124;43m../gantrycomms/Acquisition/20240310-132157/Acquisition-1509.tiff\u001b[39;49m\u001b[38;5;124;43m\"\u001b[39;49m\u001b[43m)\u001b[49m\n\u001b[0;32m      5\u001b[0m temperature_data \u001b[38;5;241m=\u001b[39m np\u001b[38;5;241m.\u001b[39marray(img)\n\u001b[0;32m      7\u001b[0m percentile_95 \u001b[38;5;241m=\u001b[39m np\u001b[38;5;241m.\u001b[39mpercentile(temperature_data, \u001b[38;5;241m95\u001b[39m)\n",
      "File \u001b[1;32m~\\anaconda3\\envs\\thermal_calibration\\lib\\site-packages\\PIL\\Image.py:3431\u001b[0m, in \u001b[0;36mopen\u001b[1;34m(fp, mode, formats)\u001b[0m\n\u001b[0;32m   3428\u001b[0m     filename \u001b[38;5;241m=\u001b[39m os\u001b[38;5;241m.\u001b[39mpath\u001b[38;5;241m.\u001b[39mrealpath(os\u001b[38;5;241m.\u001b[39mfspath(fp))\n\u001b[0;32m   3430\u001b[0m \u001b[38;5;28;01mif\u001b[39;00m filename:\n\u001b[1;32m-> 3431\u001b[0m     fp \u001b[38;5;241m=\u001b[39m \u001b[43mbuiltins\u001b[49m\u001b[38;5;241;43m.\u001b[39;49m\u001b[43mopen\u001b[49m\u001b[43m(\u001b[49m\u001b[43mfilename\u001b[49m\u001b[43m,\u001b[49m\u001b[43m \u001b[49m\u001b[38;5;124;43m\"\u001b[39;49m\u001b[38;5;124;43mrb\u001b[39;49m\u001b[38;5;124;43m\"\u001b[39;49m\u001b[43m)\u001b[49m\n\u001b[0;32m   3432\u001b[0m     exclusive_fp \u001b[38;5;241m=\u001b[39m \u001b[38;5;28;01mTrue\u001b[39;00m\n\u001b[0;32m   3433\u001b[0m \u001b[38;5;28;01melse\u001b[39;00m:\n",
      "\u001b[1;31mFileNotFoundError\u001b[0m: [Errno 2] No such file or directory: 'C:\\\\Users\\\\polis\\\\Technical\\\\ANU\\\\MMLCV\\\\Semester-2, 2024\\\\TechLauncher\\\\APPF_FLIR\\\\gantrycomms\\\\Acquisition\\\\20240310-132157\\\\Acquisition-1509.tiff'"
     ]
    }
   ],
   "source": [
    "from PIL import Image\n",
    "import numpy as np\n",
    "\n",
    "img = Image.open(\"../gantrycomms/Acquisition/20240310-132157/Acquisition-1509.tiff\")\n",
    "temperature_data = np.array(img)\n",
    "\n",
    "percentile_95 = np.percentile(temperature_data, 95)\n",
    "normalized_data = np.clip(temperature_data, None, percentile_95)\n",
    "\n",
    "min_val = np.min(normalized_data)\n",
    "max_val = np.max(normalized_data)\n",
    "\n",
    "normalized_data = (normalized_data-min_val)/(max_val-min_val)\n",
    "\n",
    "processed_image = Image.fromarray((normalized_data*255).astype('uint8'))\n",
    "processed_image.save('../gantrycomms/Acquisition/20240310-132157/Acquisition-1509-normalized.tiff')"
   ]
  },
  {
   "cell_type": "code",
   "execution_count": 12,
   "id": "1dc129f3-7d5e-4cbc-ae63-612887204ece",
   "metadata": {},
   "outputs": [
    {
     "name": "stdout",
     "output_type": "stream",
     "text": [
      "Collecting pillow\n",
      "  Downloading pillow-10.4.0-cp38-cp38-win_amd64.whl.metadata (9.3 kB)\n",
      "Downloading pillow-10.4.0-cp38-cp38-win_amd64.whl (2.6 MB)\n",
      "   ---------------------------------------- 0.0/2.6 MB ? eta -:--:--\n",
      "   ---------------- ----------------------- 1.0/2.6 MB 16.7 MB/s eta 0:00:01\n",
      "   ---------------------------------------- 2.6/2.6 MB 7.7 MB/s eta 0:00:00\n",
      "Installing collected packages: pillow\n",
      "Successfully installed pillow-10.4.0\n"
     ]
    }
   ],
   "source": [
    "!pip install pillow"
   ]
  },
  {
   "cell_type": "code",
   "execution_count": null,
   "id": "86baf074-b83b-4585-a117-5e7fa733574d",
   "metadata": {},
   "outputs": [],
   "source": []
  }
 ],
 "metadata": {
  "kernelspec": {
   "display_name": "Python 3 (ipykernel)",
   "language": "python",
   "name": "python3"
  },
  "language_info": {
   "codemirror_mode": {
    "name": "ipython",
    "version": 3
   },
   "file_extension": ".py",
   "mimetype": "text/x-python",
   "name": "python",
   "nbconvert_exporter": "python",
   "pygments_lexer": "ipython3",
   "version": "3.8.19"
  }
 },
 "nbformat": 4,
 "nbformat_minor": 5
}

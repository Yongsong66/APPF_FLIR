{
 "cells": [
  {
   "cell_type": "code",
   "execution_count": 13,
   "id": "6162b7ae-c241-4fb7-85e2-926075a4ba87",
   "metadata": {},
   "outputs": [],
   "source": [
    "import requests\n",
    "import time"
   ]
  },
  {
   "cell_type": "code",
   "execution_count": 9,
   "id": "85903e01-fb18-4554-91e6-8348e27ec096",
   "metadata": {},
   "outputs": [
    {
     "name": "stdout",
     "output_type": "stream",
     "text": [
      "1510\n"
     ]
    }
   ],
   "source": [
    "print(requests.get(\"http://localhost:8010/RestPLCService/getint?address=4020\").json()[\"Value\"])"
   ]
  },
  {
   "cell_type": "code",
   "execution_count": 10,
   "id": "b0e1996b-3d76-4332-b792-35cb8b499ada",
   "metadata": {},
   "outputs": [
    {
     "data": {
      "text/plain": [
       "<Response [200]>"
      ]
     },
     "execution_count": 10,
     "metadata": {},
     "output_type": "execute_result"
    }
   ],
   "source": [
    "requests.get(\"http://localhost:8010/RestPLCService/setint?address=4010&value=%d\" % 1209)"
   ]
  },
  {
   "cell_type": "code",
   "execution_count": 27,
   "id": "9bd77c7f-27f6-486b-a70a-836bb0c278dd",
   "metadata": {},
   "outputs": [],
   "source": []
  },
  {
   "cell_type": "code",
   "execution_count": 12,
   "id": "4d8c2f3f-1681-4f43-89ac-db2ee8a6b72d",
   "metadata": {},
   "outputs": [
    {
     "data": {
      "text/plain": [
       "<Response [200]>"
      ]
     },
     "execution_count": 12,
     "metadata": {},
     "output_type": "execute_result"
    }
   ],
   "source": [
    "requests.get(\"http://localhost:8010/RestPLCService/setint?address=4010&value=%d\" % 1510)"
   ]
  },
  {
   "cell_type": "code",
   "execution_count": 31,
   "id": "a3dff6f7-5d61-48b8-a534-a3e21204205f",
   "metadata": {},
   "outputs": [
    {
     "name": "stdout",
     "output_type": "stream",
     "text": [
      "The gantry's position is: 1510\n",
      "The gantry's position is: 1340\n",
      "The gantry's position is: 1055\n",
      "The gantry's position is: 740\n",
      "The gantry's position is: 435\n",
      "The gantry's position is: 1427\n"
     ]
    }
   ],
   "source": [
    "li_th_pos = [1340, 1055, 740, 435, 1510]\n",
    "if requests.get(\"http://localhost:8010/RestPLCService/getint?address=4020\").json()[\"Value\"] != 1510:\n",
    "    requests.get(\"http://localhost:8010/RestPLCService/setint?address=4010&value=%d\" % 1510)\n",
    "    time.sleep(10)\n",
    "    print(\"The gantry's position is:\", requests.get(\"http://localhost:8010/RestPLCService/getint?address=4020\").json()[\"Value\"])\n",
    "    # call rgbd and thermal capture\n",
    "for pos in li_th_pos:\n",
    "    requests.get(\"http://localhost:8010/RestPLCService/setint?address=4010&value=%d\" % pos)\n",
    "    time.sleep(10)\n",
    "    print(\"The gantry's position is:\",requests.get(\"http://localhost:8010/RestPLCService/getint?address=4020\").json()[\"Value\"])\n",
    "    # call rgbd and thermal capture"
   ]
  },
  {
   "cell_type": "code",
   "execution_count": null,
   "id": "8b340391-abfe-4fd8-a32f-119ff4af1022",
   "metadata": {},
   "outputs": [],
   "source": []
  }
 ],
 "metadata": {
  "kernelspec": {
   "display_name": "Python 3 (ipykernel)",
   "language": "python",
   "name": "python3"
  },
  "language_info": {
   "codemirror_mode": {
    "name": "ipython",
    "version": 3
   },
   "file_extension": ".py",
   "mimetype": "text/x-python",
   "name": "python",
   "nbconvert_exporter": "python",
   "pygments_lexer": "ipython3",
   "version": "3.10.14"
  }
 },
 "nbformat": 4,
 "nbformat_minor": 5
}

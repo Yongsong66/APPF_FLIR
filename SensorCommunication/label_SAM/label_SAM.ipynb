{
 "cells": [
  {
   "cell_type": "code",
   "execution_count": 1,
   "id": "25dce622-8d61-41ff-bdcb-9dc9ddc684a8",
   "metadata": {
    "tags": []
   },
   "outputs": [],
   "source": [
    "import cv2\n"
   ]
  },
  {
   "cell_type": "code",
   "execution_count": 2,
   "id": "7cb3dab4-a229-44e5-9148-0c67cf5e3386",
   "metadata": {
    "tags": []
   },
   "outputs": [
    {
     "name": "stdout",
     "output_type": "stream",
     "text": [
      "Point selected: (613, 396)\n",
      "Point selected: (743, 482)\n",
      "Point selected: (803, 347)\n",
      "Point selected: (715, 226)\n",
      "Point selected: (528, 197)\n",
      "Point selected: (466, 262)\n",
      "Point selected: (528, 417)\n",
      "Point selected: (605, 492)\n",
      "Point selected: (709, 372)\n"
     ]
    }
   ],
   "source": [
    "\n",
    "img_path = './rgb_000001.png'\n",
    "image_bgr = cv2.imread(img_path)\n",
    "image = cv2.cvtColor(image_bgr, cv2.COLOR_BGR2RGB)\n",
    "# Function to be called on mouse events\n",
    "def click_event(event, x, y, flags, param):\n",
    "   if event == cv2.EVENT_LBUTTONDOWN:  # Left button click\n",
    "        print(f\"Point selected: ({x}, {y})\")\n",
    "        cv2.circle(temp_img, (x, y), radius=1, color=(0, 255, 0), thickness=-1)  # Mark the selected point on the temp image\n",
    "        cv2.imshow('image', temp_img)\n",
    "\n",
    "temp_img = image_bgr.copy()  # Make a temporary copy of the image to draw points on\n",
    "\n",
    "cv2.imshow('image', image_bgr)\n",
    "\n",
    "# Set the mouse callback function for the window\n",
    "cv2.setMouseCallback('image', click_event)\n",
    "\n",
    "cv2.waitKey(0)  # Wait for a key press to exit\n",
    "cv2.destroyAllWindows()"
   ]
  },
  {
   "cell_type": "raw",
   "id": "7f756c94-9f6b-43ab-9bc8-70223b151eb0",
   "metadata": {},
   "source": [
    "# https://github.com/facebookresearch/segment-anything/blob/main/notebooks/predictor_example.ipynb\n",
    "refere the above notebooks to pass points to SAM and get masks"
   ]
  }
 ],
 "metadata": {
  "kernelspec": {
   "display_name": "Python 3 (ipykernel)",
   "language": "python",
   "name": "python3"
  },
  "language_info": {
   "codemirror_mode": {
    "name": "ipython",
    "version": 3
   },
   "file_extension": ".py",
   "mimetype": "text/x-python",
   "name": "python",
   "nbconvert_exporter": "python",
   "pygments_lexer": "ipython3",
   "version": "3.10.10"
  }
 },
 "nbformat": 4,
 "nbformat_minor": 5
}
